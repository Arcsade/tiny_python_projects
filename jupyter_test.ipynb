{
 "cells": [
  {
   "cell_type": "code",
   "execution_count": 18,
   "metadata": {},
   "outputs": [
    {
     "data": {
      "text/plain": [
       "['chips', 'ice cream', 'sammiches', 'soda']"
      ]
     },
     "execution_count": 18,
     "metadata": {},
     "output_type": "execute_result"
    }
   ],
   "source": [
    "items=list()\n",
    "items.extend(['chips','ice cream','soda','sammiches'])\n",
    "items.sort()\n",
    "items.reverse()\n",
    "items\n"
   ]
  },
  {
   "cell_type": "code",
   "execution_count": 19,
   "metadata": {},
   "outputs": [
    {
     "data": {
      "text/plain": [
       "['chips', 'ice cream', 'sammiches', 'soda']"
      ]
     },
     "execution_count": 19,
     "metadata": {},
     "output_type": "execute_result"
    }
   ],
   "source": [
    "sorted(items)\n",
    "list(reversed(items))\n"
   ]
  },
  {
   "cell_type": "code",
   "execution_count": 22,
   "metadata": {},
   "outputs": [
    {
     "data": {
      "text/plain": [
       "True"
      ]
     },
     "execution_count": 22,
     "metadata": {},
     "output_type": "execute_result"
    }
   ],
   "source": [
    "items\n",
    "\n",
    "if 'chips' in items:\n",
    "    idx=items.index('chips')\n",
    "    items[idx]='apples'\n",
    "items\n",
    "import os\n",
    "file='inputs/fox.txt'\n",
    "os.path.isfile(file)"
   ]
  },
  {
   "cell_type": "code",
   "execution_count": 46,
   "metadata": {},
   "outputs": [],
   "source": [
    "fh = open(file)\n",
    "fh.read()\n",
    "type(fh)\n",
    "fh.read()\n",
    "text=open(file).read().rstrip()\n",
    "text\n",
    "type(text)\n",
    "text.strip()\n",
    "text.upper()\n",
    "out_fh=open('out.txt','wt')\n",
    "out_fh.write('this is some text\\n')\n",
    "print('this is some more text', file=out_fh)\n",
    "out_fh.close()\n"
   ]
  },
  {
   "cell_type": "code",
   "execution_count": 47,
   "metadata": {},
   "outputs": [
    {
     "data": {
      "text/plain": [
       "'this is some text\\nthis is some more text\\n'"
      ]
     },
     "execution_count": 47,
     "metadata": {},
     "output_type": "execute_result"
    }
   ],
   "source": [
    "open('out.txt').read()"
   ]
  },
  {
   "cell_type": "code",
   "execution_count": 50,
   "metadata": {},
   "outputs": [],
   "source": [
    "print(\"I am what I am an' I'm not ashamed.\", file=open('hagrid.txt', 'wt'))"
   ]
  },
  {
   "cell_type": "code",
   "execution_count": 51,
   "metadata": {},
   "outputs": [
    {
     "data": {
      "text/plain": [
       "\"I am what I am an' I'm not ashamed.\\n\""
      ]
     },
     "execution_count": 51,
     "metadata": {},
     "output_type": "execute_result"
    }
   ],
   "source": [
    "open('hagrid.txt').read()"
   ]
  },
  {
   "cell_type": "code",
   "execution_count": 53,
   "metadata": {},
   "outputs": [],
   "source": [
    "fh = open('hagrid.txt', 'wt')\n",
    "fh.write(\"I am what I am an' I'm not ashamed.\\n\")\n",
    "fh.close()"
   ]
  },
  {
   "cell_type": "code",
   "execution_count": 31,
   "metadata": {},
   "outputs": [],
   "source": [
    "def verse(bottle):\n",
    "    \"\"\"Sing a bottle\"\"\"\n",
    "    for i in range(bottle,0,-1):\n",
    "        return'\\n'.join([\n",
    "                         f\"{i} {'bottles' if i>1 else 'bottle'} of beer on the wall,\", \n",
    "                         f\"{i} {'bottles' if i>1 else 'bottle'} of beer,\",\n",
    "                         f\"Take one down, pass it around,\",\n",
    "                         f\"{i-1 if i-1>0 else 'No more'} {'bottles' if i-1!=1 else 'bottle'} of beer on the wall!\"])"
   ]
  },
  {
   "cell_type": "code",
   "execution_count": 8,
   "metadata": {},
   "outputs": [
    {
     "data": {
      "text/plain": [
       "str"
      ]
     },
     "execution_count": 8,
     "metadata": {},
     "output_type": "execute_result"
    }
   ],
   "source": [
    "import re\n",
    "\n",
    "word='Getting read'\n",
    "scam_list=word[1:-1]\n",
    "type(scam_list)"
   ]
  },
  {
   "cell_type": "code",
   "execution_count": 2,
   "metadata": {},
   "outputs": [
    {
     "data": {
      "text/plain": [
       "10"
      ]
     },
     "execution_count": 2,
     "metadata": {},
     "output_type": "execute_result"
    }
   ],
   "source": [
    "\n",
    "ord('\\n')"
   ]
  }
 ],
 "metadata": {
  "kernelspec": {
   "display_name": "Python 3",
   "language": "python",
   "name": "python3"
  },
  "language_info": {
   "codemirror_mode": {
    "name": "ipython",
    "version": 3
   },
   "file_extension": ".py",
   "mimetype": "text/x-python",
   "name": "python",
   "nbconvert_exporter": "python",
   "pygments_lexer": "ipython3",
   "version": "3.13.0"
  }
 },
 "nbformat": 4,
 "nbformat_minor": 2
}
